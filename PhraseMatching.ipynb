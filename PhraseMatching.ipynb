{
 "cells": [
  {
   "cell_type": "code",
   "execution_count": 1,
   "metadata": {},
   "outputs": [],
   "source": [
    "from spacy.matcher import Matcher\n",
    "import spacy\n",
    "nlp=spacy.load('en_core_web_sm')\n",
    "match= Matcher(nlp.vocab)\n"
   ]
  },
  {
   "cell_type": "code",
   "execution_count": 2,
   "metadata": {},
   "outputs": [],
   "source": [
    "doc=nlp(u'My name is Aafaq-Altaf.Aafaq Altaf reshi is my full name.AafaqAltaf is my user name.Email is AafaqAltaf@gmail.com link https:\\\\www.google.com.Is all right there?. Apple is  a fruit.')"
   ]
  },
  {
   "cell_type": "code",
   "execution_count": 3,
   "metadata": {},
   "outputs": [],
   "source": [
    "pattern1= [{'LOWER':'aafaqaltaf'}]\n",
    "\n",
    "pattern2= [{'LOWER':'aafaq'},{\"IS_PUNCT\":True},{'LOWER':'altaf'}]\n",
    "\n",
    "pattern3= [{'LOWER':'aafaq'},{'LOWER':'altaf'}]\n",
    "\n",
    "pattern4= [{'LIKE_EMAIL':True}]\n",
    "\n",
    "pattern5= [{'LIKE_URL':True}]\n",
    "\n",
    "#pattern6= [{\"POS\": \"PROPN\"}]\n",
    "\n",
    "pattern7 = [{\"LENGTH\": {\"==\": 2},'OP': ''}]"
   ]
  },
  {
   "cell_type": "code",
   "execution_count": 4,
   "metadata": {},
   "outputs": [],
   "source": [
    "match.add('name',None,pattern1,pattern2,pattern3,pattern4,pattern5,pattern7)"
   ]
  },
  {
   "cell_type": "code",
   "execution_count": 5,
   "metadata": {},
   "outputs": [
    {
     "data": {
      "text/plain": [
       "32"
      ]
     },
     "execution_count": 5,
     "metadata": {},
     "output_type": "execute_result"
    }
   ],
   "source": [
    "found=match(doc)\n",
    "len(found)"
   ]
  },
  {
   "cell_type": "code",
   "execution_count": 6,
   "metadata": {},
   "outputs": [
    {
     "name": "stdout",
     "output_type": "stream",
     "text": [
      "18309932012808971453 --> name 1 2 name\n",
      "18309932012808971453 --> name 3 4 Aafaq\n",
      "18309932012808971453 --> name 4 5 -\n",
      "18309932012808971453 --> name 3 6 Aafaq-Altaf\n",
      "18309932012808971453 --> name 5 6 Altaf\n",
      "18309932012808971453 --> name 6 7 .\n",
      "18309932012808971453 --> name 7 8 Aafaq\n",
      "18309932012808971453 --> name 7 9 Aafaq Altaf\n",
      "18309932012808971453 --> name 8 9 Altaf\n",
      "18309932012808971453 --> name 9 10 reshi\n",
      "18309932012808971453 --> name 12 13 full\n",
      "18309932012808971453 --> name 13 14 name\n",
      "18309932012808971453 --> name 14 15 .\n",
      "18309932012808971453 --> name 15 16 AafaqAltaf\n",
      "18309932012808971453 --> name 18 19 user\n",
      "18309932012808971453 --> name 19 20 name\n",
      "18309932012808971453 --> name 20 21 .\n",
      "18309932012808971453 --> name 21 22 Email\n",
      "18309932012808971453 --> name 23 24 AafaqAltaf@gmail.com\n",
      "18309932012808971453 --> name 24 25 link\n",
      "18309932012808971453 --> name 25 26 https:\\www.google.com\n",
      "18309932012808971453 --> name 26 27 .\n",
      "18309932012808971453 --> name 28 29 all\n",
      "18309932012808971453 --> name 29 30 right\n",
      "18309932012808971453 --> name 30 31 there\n",
      "18309932012808971453 --> name 31 32 ?\n",
      "18309932012808971453 --> name 32 33 .\n",
      "18309932012808971453 --> name 33 34 Apple\n",
      "18309932012808971453 --> name 35 36  \n",
      "18309932012808971453 --> name 36 37 a\n",
      "18309932012808971453 --> name 37 38 fruit\n",
      "18309932012808971453 --> name 38 39 .\n"
     ]
    }
   ],
   "source": [
    "for idd,start,end in found:\n",
    "    strng=nlp.vocab.strings[idd]\n",
    "    span=doc[start:end]\n",
    "    print(idd,'-->',strng,start,end,span.text)"
   ]
  },
  {
   "cell_type": "code",
   "execution_count": 7,
   "metadata": {},
   "outputs": [],
   "source": [
    "#for token in doc:\n",
    " #   print(token.text,token.pos_,spacy.explain(token.pos_))"
   ]
  },
  {
   "cell_type": "code",
   "execution_count": null,
   "metadata": {},
   "outputs": [],
   "source": []
  }
 ],
 "metadata": {
  "kernelspec": {
   "display_name": "Python 3",
   "language": "python",
   "name": "python3"
  },
  "language_info": {
   "codemirror_mode": {
    "name": "ipython",
    "version": 3
   },
   "file_extension": ".py",
   "mimetype": "text/x-python",
   "name": "python",
   "nbconvert_exporter": "python",
   "pygments_lexer": "ipython3",
   "version": "3.7.4"
  }
 },
 "nbformat": 4,
 "nbformat_minor": 2
}
